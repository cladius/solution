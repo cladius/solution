{
  "nbformat": 4,
  "nbformat_minor": 0,
  "metadata": {
    "colab": {
      "provenance": [],
      "authorship_tag": "ABX9TyM1LMkrC3cgbNdH7L2kf8P2",
      "include_colab_link": true
    },
    "kernelspec": {
      "name": "python3",
      "display_name": "Python 3"
    },
    "language_info": {
      "name": "python"
    }
  },
  "cells": [
    {
      "cell_type": "markdown",
      "metadata": {
        "id": "view-in-github",
        "colab_type": "text"
      },
      "source": [
        "<a href=\"https://colab.research.google.com/github/pallavijog13/solution/blob/master/2022/Final/2%20Agniveer/CodeGladiator2021_Agniveer.ipynb\" target=\"_parent\"><img src=\"https://colab.research.google.com/assets/colab-badge.svg\" alt=\"Open In Colab\"/></a>"
      ]
    },
    {
      "cell_type": "markdown",
      "source": [
        "# Inputs"
      ],
      "metadata": {
        "id": "Uvv04bV90LNf"
      }
    },
    {
      "cell_type": "code",
      "execution_count": 43,
      "metadata": {
        "colab": {
          "base_uri": "https://localhost:8080/"
        },
        "id": "ywWAHlMWeIPH",
        "outputId": "5b713897-66c7-43f0-dc0c-8105210c9983"
      },
      "outputs": [
        {
          "name": "stdout",
          "output_type": "stream",
          "text": [
            "Enter the current location of Agniveer and the maximum speed of his car:10 1\n"
          ]
        },
        {
          "output_type": "execute_result",
          "data": {
            "text/plain": [
              "(10, 1)"
            ]
          },
          "metadata": {},
          "execution_count": 43
        }
      ],
      "source": [
        "P, S = str.split(input('Enter the current location of Agniveer and the maximum speed of his car:'))\n",
        "\n",
        "P = int(P)\n",
        "S = int(S)\n",
        "\n",
        "P, S"
      ]
    },
    {
      "cell_type": "code",
      "source": [
        "N = int(input('Enter the number of criminals:'))\n",
        "\n",
        "N"
      ],
      "metadata": {
        "colab": {
          "base_uri": "https://localhost:8080/"
        },
        "id": "wmxiLdNK0wXA",
        "outputId": "2493f635-199c-4dbd-8ec4-e571abc2633e"
      },
      "execution_count": 53,
      "outputs": [
        {
          "name": "stdout",
          "output_type": "stream",
          "text": [
            "Enter the number of criminals:5\n"
          ]
        },
        {
          "output_type": "execute_result",
          "data": {
            "text/plain": [
              "5"
            ]
          },
          "metadata": {},
          "execution_count": 53
        }
      ]
    },
    {
      "cell_type": "code",
      "source": [
        "t = str.split(input('Enter the reaching time of the criminals:'))\n",
        "l = str.split(input('Enter the attack location of the criminals:'))\n",
        "\n",
        "Ti = [int(x) for x in t]\n",
        "Li = [int(x) for x in l]\n",
        "\n",
        "Ti, Li"
      ],
      "metadata": {
        "colab": {
          "base_uri": "https://localhost:8080/"
        },
        "id": "0CYpiXoB1iff",
        "outputId": "2366e194-3d44-4ab2-e0a9-88daed1ca78b"
      },
      "execution_count": 54,
      "outputs": [
        {
          "name": "stdout",
          "output_type": "stream",
          "text": [
            "Enter the reaching time of the criminals:1 1 1 1 1\n",
            "Enter the attack location of the criminals:9 8 7 6 5\n"
          ]
        },
        {
          "output_type": "execute_result",
          "data": {
            "text/plain": [
              "([1, 1, 1, 1, 1], [9, 8, 7, 6, 5])"
            ]
          },
          "metadata": {},
          "execution_count": 54
        }
      ]
    },
    {
      "cell_type": "code",
      "source": [
        "import numpy as np"
      ],
      "metadata": {
        "id": "DmRLmRMD5C2g"
      },
      "execution_count": 27,
      "outputs": []
    },
    {
      "cell_type": "code",
      "source": [
        "tl_table = np.vstack((Ti, Li)).T                # vertically stack time and location array\n",
        "tl_table = sorted(tl_table,key=lambda x: x[0])  # sort 2d array according to time column\n",
        "tl_table = [list(arr) for arr in tl_table]      # convert array into native list type\n",
        "tl_table"
      ],
      "metadata": {
        "colab": {
          "base_uri": "https://localhost:8080/"
        },
        "id": "_OFMy8xF3_er",
        "outputId": "e17313a1-2cc3-4281-b5c3-531dce2ee7fa"
      },
      "execution_count": 55,
      "outputs": [
        {
          "output_type": "execute_result",
          "data": {
            "text/plain": [
              "[[1, 9], [1, 8], [1, 7], [1, 6], [1, 5]]"
            ]
          },
          "metadata": {},
          "execution_count": 55
        }
      ]
    },
    {
      "cell_type": "code",
      "source": [
        "current_P = P       # current location of Agniveer\n",
        "T = 0               # start at time=0\n",
        "nabbed_count = 0    # no nabbing yet\n",
        "for i in range(N):  # since table is time-sorted, we can move sequentially\n",
        "    indexes = [idx for idx,v in enumerate(tl_table) if v[0]==i+1]   # get the indexes with reaching time=i+1\n",
        "    print (indexes)\n",
        "    if indexes != []: # if 1 or more criminals are reaching at this time..\n",
        "        for idx in indexes: # check for every criminal at that time.\n",
        "            possible_moves_of_P = S * (tl_table[idx][0]-T) # in the remaining time, how much Agniveer can move\n",
        "            possible_location_of_P_positive = current_P + possible_moves_of_P # calculate possible location in +ve direction\n",
        "            possible_location_of_P_negative = current_P - possible_moves_of_P # calculate possible location in -ve direction\n",
        "            print (possible_location_of_P_positive, possible_location_of_P_negative)\n",
        "\n",
        "            # does location of criminal falls within this +ve and -ve location range?\n",
        "            if (tl_table[idx][1] <= possible_location_of_P_positive) and (tl_table[idx][1] >= possible_location_of_P_negative):\n",
        "                nabbed_count += 1               # Increment nabbing count\n",
        "                T = tl_table[idx][0] - T        # Set the current time\n",
        "                current_P = tl_table[idx][1]    # Update Agniveer's location\n",
        "                print (current_P)\n"
      ],
      "metadata": {
        "colab": {
          "base_uri": "https://localhost:8080/"
        },
        "id": "-UOmhvLE6J8j",
        "outputId": "1cea7ebb-208d-4f05-919d-7219ae376142"
      },
      "execution_count": 56,
      "outputs": [
        {
          "output_type": "stream",
          "name": "stdout",
          "text": [
            "[0, 1, 2, 3, 4]\n",
            "11 9\n",
            "9\n",
            "9 9\n",
            "9 9\n",
            "9 9\n",
            "9 9\n",
            "[]\n",
            "[]\n",
            "[]\n",
            "[]\n"
          ]
        }
      ]
    },
    {
      "cell_type": "code",
      "source": [
        "print ('Minimum number of criminals who will not be arrested by Agniveer:', N-nabbed_count)"
      ],
      "metadata": {
        "colab": {
          "base_uri": "https://localhost:8080/"
        },
        "id": "BJBudwwY_8k0",
        "outputId": "48f68e1a-0dc5-4300-aaaf-3b92b9ff0437"
      },
      "execution_count": 57,
      "outputs": [
        {
          "output_type": "stream",
          "name": "stdout",
          "text": [
            "Minimum number of criminals who will not be arrested by Agniveer: 4\n"
          ]
        }
      ]
    },
    {
      "cell_type": "code",
      "source": [],
      "metadata": {
        "id": "StIDLwtaFHxO"
      },
      "execution_count": null,
      "outputs": []
    }
  ]
}