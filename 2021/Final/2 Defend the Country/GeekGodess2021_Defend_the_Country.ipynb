{
  "nbformat": 4,
  "nbformat_minor": 0,
  "metadata": {
    "colab": {
      "provenance": [],
      "collapsed_sections": [],
      "authorship_tag": "ABX9TyM/gt9KoUOkslWe6hzShcyi",
      "include_colab_link": true

    },
    "kernelspec": {
      "name": "python3",
      "display_name": "Python 3"
    },
    "language_info": {
      "name": "python"
    }
  },
  "cells": [
    {
      "cell_type": "markdown",
      "source": [
        "# Inputs"
      ],
      "metadata": {
        "id": "eO7dsuH_g1J1"
      }
    },
    {
      "cell_type": "code",
      "execution_count": 1,
      "metadata": {
        "colab": {
          "base_uri": "https://localhost:8080/"
        },
        "id": "zGGkLXLqgTRd",
        "outputId": "51d898ee-4370-4322-b135-3748b3cd64c2"
      },
      "outputs": [
        {
          "name": "stdout",
          "output_type": "stream",
          "text": [
            "Number of integers:7\n"
          ]
        },
        {
          "output_type": "execute_result",
          "data": {
            "text/plain": [
              "7"
            ]
          },
          "metadata": {},
          "execution_count": 1
        }
      ],
      "source": [
        "N = input('Number of integers:')\n",
        "N = int(N)\n",
        "N # max = 1M = 1,000,000"
      ]
    },
    {
      "cell_type": "code",
      "source": [
        "# 6 7 8 9 4 4 2 3\n",
        "# 2 2 3 4 5 6 7 8 9 0\n",
        "# 8 5 6 1 2 3 4 5 6 7\n",
        "# 4 5 6 4 8 4 5 5 2\n",
        "# 2 2 3 4 5 6 7 8 9 0\n",
        "# 9 0 0 1 0 0 5\n",
        "# 4 5 0 0 0 6 0 9 9 9 --> 6084\n",
        "D = str.split(input('Enter N number of integers:'))\n",
        "while len(D) != N:\n",
        "    D = str.split(input('Enter N number of integers:'))\n",
        "\n",
        "D = [int(s) for s in D]\n",
        "print (D)"
      ],
      "metadata": {
        "colab": {
          "base_uri": "https://localhost:8080/"
        },
        "id": "VFlrZXlAhC05",
        "outputId": "10b14b45-18fb-43ab-a6b6-5299b03a3a9c"
      },
      "execution_count": 2,
      "outputs": [
        {
          "output_type": "stream",
          "name": "stdout",
          "text": [
            "Enter N number of integers:9 0 0 1 0 0 5\n",
            "[9, 0, 0, 1, 0, 0, 5]\n"
          ]
        }
      ]
    },
    {
      "cell_type": "code",
      "source": [
        "ten = 10\n",
        "\n",
        "def build_sequence_for_number(num1, multiplier):\n",
        "    seq1 = []\n",
        "    if (str(num1) in str(multiplier)) and (multiplier > 0):\n",
        "        seq1 = list(range(multiplier, multiplier+100))\n",
        "        return seq1\n",
        "\n",
        "    for i in range(ten):\n",
        "        if i != num1:\n",
        "            start = i * ten + num1\n",
        "            seq1.append(start+multiplier)\n",
        "            diff = (num1*ten - start)\n",
        "            if diff <= ten and diff > -1:\n",
        "                decade = num1 * ten\n",
        "                for j in range(ten):\n",
        "                    seq1.append(decade+j+multiplier)\n",
        "\n",
        "    return seq1\n",
        "print (build_sequence_for_number(1, 100))"
      ],
      "metadata": {
        "colab": {
          "base_uri": "https://localhost:8080/"
        },
        "id": "FgtbUiPzDE3h",
        "outputId": "4c525e20-9b75-4d9c-cad7-69c94471497a"
      },
      "execution_count": 3,
      "outputs": [
        {
          "output_type": "stream",
          "name": "stdout",
          "text": [
            "[100, 101, 102, 103, 104, 105, 106, 107, 108, 109, 110, 111, 112, 113, 114, 115, 116, 117, 118, 119, 120, 121, 122, 123, 124, 125, 126, 127, 128, 129, 130, 131, 132, 133, 134, 135, 136, 137, 138, 139, 140, 141, 142, 143, 144, 145, 146, 147, 148, 149, 150, 151, 152, 153, 154, 155, 156, 157, 158, 159, 160, 161, 162, 163, 164, 165, 166, 167, 168, 169, 170, 171, 172, 173, 174, 175, 176, 177, 178, 179, 180, 181, 182, 183, 184, 185, 186, 187, 188, 189, 190, 191, 192, 193, 194, 195, 196, 197, 198, 199]\n"
          ]
        }
      ]
    },
    {
      "cell_type": "markdown",
      "source": [
        "# Algorithm - Similar to divide and conquer and eliminate non-conformant values from every comparison.\n",
        "\n",
        "1. Create sequence of numbers containing the given number within a specific range of values.\n",
        "2. Compare start and mid values for sequence and remove all the non-conformant values and retain whichever satisfies the sequence.\n",
        "3. Use this filtered list for 1st and last number and remove non-conformants.\n",
        "4. Repeat for mid of 1st half and mid of 2nd half, which eliminates maximum values.\n",
        "5. Now repeat for entire sequence continuity with remaining conformants.\n",
        "6. If no continuity found, build next sequence of numbers and check above steps for conformants."
      ],
      "metadata": {
        "id": "uHyNLnw7lSWb"
      }
    },
    {
      "cell_type": "code",
      "source": [
        "partial_continuity = False  # checks continuity for start/mid/last/mid of 1st half/mid of 2nd half\n",
        "complete_continuity = False # continuity for entire sequence\n",
        "\n",
        "# Get start/mid/last values from the list\n",
        "mid = int(len(D)/2)\n",
        "num1 = D[0]\n",
        "num2 = D[mid]\n",
        "num3 = D[-1]\n",
        "\n",
        "multiplier = 0 # initially set multiplier as 0, for 2 digit numbers\n",
        "\n",
        "print (num1, num2)\n",
        "while complete_continuity == False and multiplier <= 10000:\n",
        "    \n",
        "    seq1 = build_sequence_for_number(num1, multiplier)\n",
        "    seq1.extend(build_sequence_for_number(num1, multiplier+100))\n",
        "    seq2 = build_sequence_for_number(num2, multiplier)\n",
        "    seq2.extend(build_sequence_for_number(num2, multiplier+100))\n",
        "    seq1 = [x for x in seq1 if x>=10]\n",
        "    seq2 = [x for x in seq2 if x>=10]\n",
        "    print (seq1, seq2)\n",
        "\n",
        "    print ('Printing for mid...')\n",
        "    possible_sequence_start = []\n",
        "    for i in range(len(seq1)):\n",
        "        if (seq1[i] + mid) in seq2:\n",
        "            # print (seq1[i])\n",
        "            possible_sequence_start.append(seq1[i])\n",
        "            partial_continuity = True\n",
        "\n",
        "    print ('Printing for last number..')\n",
        "    start = 0\n",
        "    temp_list_for_looping = possible_sequence_start[:]\n",
        "    if partial_continuity == True:\n",
        "        partial_continuity = False\n",
        "        seq3 = build_sequence_for_number(num3, multiplier)\n",
        "        seq3.extend(build_sequence_for_number(num3, multiplier+100))\n",
        "        for i in temp_list_for_looping:\n",
        "            if i+len(D)-1 in seq3:\n",
        "                # print (i)\n",
        "                start = i\n",
        "                partial_continuity = True\n",
        "            else:\n",
        "                possible_sequence_start.remove(i)\n",
        "                print ('Removed:', i)\n",
        "                print ('possible_sequence_start:', possible_sequence_start)\n",
        "                \n",
        "    # Check entire sequence\n",
        "    for i in possible_sequence_start:\n",
        "        complete_continuity = True\n",
        "        adder = 0\n",
        "        for j in range(len(D)):\n",
        "            if str(D[j]) not in str(i+adder):\n",
        "                complete_continuity = False\n",
        "                # print ('Incorrect start..')\n",
        "            adder += 1\n",
        "        if complete_continuity == True:\n",
        "            start = i\n",
        "            break\n",
        "    if complete_continuity == False:\n",
        "        multiplier += 100\n"
      ],
      "metadata": {
        "id": "xgBNbnSODg53",
        "colab": {
          "base_uri": "https://localhost:8080/"
        },
        "outputId": "4510ba0b-b9e5-4c02-fb3d-802a6596e14a"
      },
      "execution_count": 4,
      "outputs": [
        {
          "output_type": "stream",
          "name": "stdout",
          "text": [
            "9 1\n",
            "[19, 29, 39, 49, 59, 69, 79, 89, 90, 91, 92, 93, 94, 95, 96, 97, 98, 99, 109, 119, 129, 139, 149, 159, 169, 179, 189, 190, 191, 192, 193, 194, 195, 196, 197, 198, 199] [10, 11, 12, 13, 14, 15, 16, 17, 18, 19, 21, 31, 41, 51, 61, 71, 81, 91, 100, 101, 102, 103, 104, 105, 106, 107, 108, 109, 110, 111, 112, 113, 114, 115, 116, 117, 118, 119, 120, 121, 122, 123, 124, 125, 126, 127, 128, 129, 130, 131, 132, 133, 134, 135, 136, 137, 138, 139, 140, 141, 142, 143, 144, 145, 146, 147, 148, 149, 150, 151, 152, 153, 154, 155, 156, 157, 158, 159, 160, 161, 162, 163, 164, 165, 166, 167, 168, 169, 170, 171, 172, 173, 174, 175, 176, 177, 178, 179, 180, 181, 182, 183, 184, 185, 186, 187, 188, 189, 190, 191, 192, 193, 194, 195, 196, 197, 198, 199]\n",
            "Printing for mid...\n",
            "Printing for last number..\n",
            "Removed: 97\n",
            "possible_sequence_start: [98, 99, 109, 119, 129, 139, 149, 159, 169, 179, 189, 190, 191, 192, 193, 194, 195, 196]\n",
            "Removed: 98\n",
            "possible_sequence_start: [99, 109, 119, 129, 139, 149, 159, 169, 179, 189, 190, 191, 192, 193, 194, 195, 196]\n",
            "Removed: 190\n",
            "possible_sequence_start: [99, 109, 119, 129, 139, 149, 159, 169, 179, 189, 191, 192, 193, 194, 195, 196]\n",
            "Removed: 191\n",
            "possible_sequence_start: [99, 109, 119, 129, 139, 149, 159, 169, 179, 189, 192, 193, 194, 195, 196]\n",
            "Removed: 192\n",
            "possible_sequence_start: [99, 109, 119, 129, 139, 149, 159, 169, 179, 189, 193, 194, 195, 196]\n",
            "Removed: 193\n",
            "possible_sequence_start: [99, 109, 119, 129, 139, 149, 159, 169, 179, 189, 194, 195, 196]\n",
            "Removed: 194\n",
            "possible_sequence_start: [99, 109, 119, 129, 139, 149, 159, 169, 179, 189, 195, 196]\n",
            "Removed: 195\n",
            "possible_sequence_start: [99, 109, 119, 129, 139, 149, 159, 169, 179, 189, 196]\n",
            "Removed: 196\n",
            "possible_sequence_start: [99, 109, 119, 129, 139, 149, 159, 169, 179, 189]\n"
          ]
        }
      ]
    },
    {
      "cell_type": "code",
      "source": [
        "if complete_continuity == True:\n",
        "    print ('Minimum start value:', start)"
      ],
      "metadata": {
        "colab": {
          "base_uri": "https://localhost:8080/"
        },
        "id": "qfnwQ0Z2YnJ2",
        "outputId": "6e5122ce-9e3d-402a-ea81-d037ecbd3a15"
      },
      "execution_count": 5,
      "outputs": [
        {
          "output_type": "stream",
          "name": "stdout",
          "text": [
            "Minimum start value: 99\n"
          ]
        }
      ]
    },
    {
      "cell_type": "code",
      "source": [],
      "metadata": {
        "id": "W8TkKe_Lo8Wh"
      },
      "execution_count": null,
      "outputs": []
    }
  ]
}