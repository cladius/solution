{
  "nbformat": 4,
  "nbformat_minor": 0,
  "metadata": {
    "colab": {
      "provenance": [],
      "authorship_tag": "ABX9TyO00BzuDL0wsUScQRYCFFat",
      "include_colab_link": true
    },
    "kernelspec": {
      "name": "python3",
      "display_name": "Python 3"
    },
    "language_info": {
      "name": "python"
    }
  },
  "cells": [
    {
      "cell_type": "markdown",
      "metadata": {
        "id": "view-in-github",
        "colab_type": "text"
      },
      "source": [
        "<a href=\"https://colab.research.google.com/github/pallavijog13/solution/blob/master/2021/SemiFinal/2/CodeGladiator2021_Girlfriend.ipynb\" target=\"_parent\"><img src=\"https://colab.research.google.com/assets/colab-badge.svg\" alt=\"Open In Colab\"/></a>"
      ]
    },
    {
      "cell_type": "markdown",
      "source": [
        "#Inputs"
      ],
      "metadata": {
        "id": "SSK37r3thsAT"
      }
    },
    {
      "cell_type": "code",
      "execution_count": 18,
      "metadata": {
        "id": "9zVnipdJhHS-",
        "colab": {
          "base_uri": "https://localhost:8080/"
        },
        "outputId": "600b4995-d0c1-49fd-f004-e51d8f9849e5"
      },
      "outputs": [
        {
          "name": "stdout",
          "output_type": "stream",
          "text": [
            "Enter no of houses and no of roads:5 5\n"
          ]
        },
        {
          "output_type": "execute_result",
          "data": {
            "text/plain": [
              "(5, 5)"
            ]
          },
          "metadata": {},
          "execution_count": 18
        }
      ],
      "source": [
        "N, R = str.split(input('Enter no of houses and no of roads:'))\n",
        "N = int(N)\n",
        "R = int(R)\n",
        "\n",
        "N, R"
      ]
    },
    {
      "cell_type": "code",
      "source": [
        "'''\n",
        "1 2 30\n",
        "1 3 10\n",
        "2 5 40\n",
        "3 4 20\n",
        "4 5 30\n",
        "'''\n",
        "NIs = []\n",
        "NJs = []\n",
        "RIs = []\n",
        "for i in range(R):\n",
        "    Ni, Nj, Ri = str.split(input(f'For road{i+1} Enter starting node, ending node and cost of travel on this road:'))\n",
        "    NIs.append(int(Ni))\n",
        "    NJs.append(int(Nj))\n",
        "    RIs.append(int(Ri))\n",
        "\n",
        "NIs, NJs, RIs"
      ],
      "metadata": {
        "colab": {
          "base_uri": "https://localhost:8080/"
        },
        "id": "Ye2dmxEIiEyP",
        "outputId": "4eeb46fb-d413-4aa7-c1bd-118c265cc775"
      },
      "execution_count": 19,
      "outputs": [
        {
          "name": "stdout",
          "output_type": "stream",
          "text": [
            "For road1 Enter starting node, ending node and cost of travel on this road:1 2 30\n",
            "For road2 Enter starting node, ending node and cost of travel on this road:1 3 10\n",
            "For road3 Enter starting node, ending node and cost of travel on this road:2 5 40\n",
            "For road4 Enter starting node, ending node and cost of travel on this road:3 4 20\n",
            "For road5 Enter starting node, ending node and cost of travel on this road:4 5 30\n"
          ]
        },
        {
          "output_type": "execute_result",
          "data": {
            "text/plain": [
              "([1, 1, 2, 3, 4], [2, 3, 5, 4, 5], [30, 10, 40, 20, 30])"
            ]
          },
          "metadata": {},
          "execution_count": 19
        }
      ]
    },
    {
      "cell_type": "code",
      "source": [
        "def build_graph():\n",
        "    graph = {}\n",
        "    for idx in range(1,N+1):\n",
        "        if idx == N:\n",
        "            continue\n",
        "        temp_source_index_list = [i for i,x in enumerate(NIs) if x == idx]\n",
        "        values = []\n",
        "        for temp_source_index in temp_source_index_list:\n",
        "            values.append(NJs[temp_source_index])\n",
        "        graph[idx] = values\n",
        "    # print (graph)\n",
        "    return graph\n",
        "\n",
        "graph = build_graph()\n",
        "graph"
      ],
      "metadata": {
        "colab": {
          "base_uri": "https://localhost:8080/"
        },
        "id": "wyTESOvPjeTF",
        "outputId": "c36c3a9a-e456-410b-fbba-51a1ab1b88ac"
      },
      "execution_count": 20,
      "outputs": [
        {
          "output_type": "execute_result",
          "data": {
            "text/plain": [
              "{1: [2, 3], 2: [5], 3: [4], 4: [5]}"
            ]
          },
          "metadata": {},
          "execution_count": 20
        }
      ]
    },
    {
      "cell_type": "code",
      "source": [
        "def find_all_paths(graph, start, end, path=[]):\n",
        "    path = path + [start]\n",
        "    if start == end:\n",
        "        return [path]\n",
        "    if start not in graph.keys():\n",
        "        return []\n",
        "    paths = []\n",
        "    for node in graph[start]:\n",
        "        if node not in path:\n",
        "            newpaths = find_all_paths(graph, node, end, path)\n",
        "            for newpath in newpaths:\n",
        "                paths.append(newpath)\n",
        "    return paths"
      ],
      "metadata": {
        "id": "pCF549W9paOQ"
      },
      "execution_count": 21,
      "outputs": []
    },
    {
      "cell_type": "code",
      "source": [
        "paths = find_all_paths(graph, 1, N)\n",
        "if paths == []: # if there is no path from source to destination, print \"NOT POSSIBLE\"\n",
        "    print (\"NOT POSSIBLE\")\n",
        "\n",
        "else: # else calculate all the possible costs and get the minimum from the list.\n",
        "    print (paths)\n",
        "    possible_costs = []\n",
        "    for path in paths:\n",
        "        ri = [i for i,x in enumerate(NIs) if NIs[i]==path[-2] and NJs[i]==path[-1]][0]\n",
        "        possible_costs.append(RIs[ri])\n",
        "\n",
        "    print ('Minimum amount of fare Rahul has to pay to taxi:', min(possible_costs))"
      ],
      "metadata": {
        "colab": {
          "base_uri": "https://localhost:8080/"
        },
        "id": "szEo_1orpqxS",
        "outputId": "6efa38a3-3283-48c0-8fd3-70c7c216c918"
      },
      "execution_count": 28,
      "outputs": [
        {
          "output_type": "stream",
          "name": "stdout",
          "text": [
            "[[1, 2, 5], [1, 3, 4, 5]]\n",
            "Minimum amount of fare Rahul has to pay to taxi: 30\n"
          ]
        }
      ]
    },
    {
      "cell_type": "code",
      "source": [],
      "metadata": {
        "id": "kRcjbzC0sl1h"
      },
      "execution_count": null,
      "outputs": []
    }
  ]
}